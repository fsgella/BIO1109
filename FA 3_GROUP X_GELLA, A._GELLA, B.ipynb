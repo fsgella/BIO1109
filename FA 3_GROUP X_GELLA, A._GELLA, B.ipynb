{
 "cells": [
  {
   "cell_type": "code",
   "execution_count": null,
   "id": "1392a5e5-f7d6-40d3-afff-4f765d9a7bff",
   "metadata": {},
   "outputs": [],
   "source": [
    "#1.i. Sensitivity\n",
    "n1 = 2545\n",
    "\n",
    "PR_Xp_Yp = 55/n1\n",
    "PR_Xp_Yp\n"
   ]
  },
  {
   "cell_type": "code",
   "execution_count": null,
   "id": "c942b253-6a55-43ff-b7fd-f9b4005db3e5",
   "metadata": {},
   "outputs": [],
   "source": []
  }
 ],
 "metadata": {
  "kernelspec": {
   "display_name": "Python 3 (ipykernel)",
   "language": "python",
   "name": "python3"
  },
  "language_info": {
   "codemirror_mode": {
    "name": "ipython",
    "version": 3
   },
   "file_extension": ".py",
   "mimetype": "text/x-python",
   "name": "python",
   "nbconvert_exporter": "python",
   "pygments_lexer": "ipython3",
   "version": "3.12.4"
  }
 },
 "nbformat": 4,
 "nbformat_minor": 5
}
